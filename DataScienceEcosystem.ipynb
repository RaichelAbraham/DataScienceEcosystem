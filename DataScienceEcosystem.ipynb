{
 "cells": [
  {
   "cell_type": "markdown",
   "id": "624f84b4",
   "metadata": {},
   "source": [
    "# DataScienceEcosystem"
   ]
  },
  {
   "cell_type": "markdown",
   "id": "2791c6c8",
   "metadata": {},
   "source": [
    "Introduction"
   ]
  },
  {
   "cell_type": "markdown",
   "id": "b59e394a",
   "metadata": {},
   "source": [
    "In this notebook, Data Science Tools and Ecosystem are summarized.\n"
   ]
  },
  {
   "cell_type": "markdown",
   "id": "e4e31991",
   "metadata": {},
   "source": [
    "# Objectives:\n",
    "\n",
    "* List popular languages for Data Science.\n",
    "* Identify the users and benefits of Python.\n",
    "* Identify the users and benefits of R language.\n",
    "* Define SQL elements and list its benefits.\n",
    "* Review languages such as Java, Scala, C++, JavaScript, and Julia.\n",
    "* List the global communities for connecting with other users."
   ]
  },
  {
   "cell_type": "markdown",
   "id": "0250ff1d",
   "metadata": {},
   "source": [
    "# Popular Data Science Languages\n",
    "\n",
    "Here are some of the most popular languages that data scientists use:\n",
    "\n",
    "1. Python\n",
    "2. R\n",
    "3. SQL\n"
   ]
  },
  {
   "cell_type": "markdown",
   "id": "aa5332a9",
   "metadata": {},
   "source": [
    "Some of the popular languages are data scientists use are :\n",
    "    [Python, R, Julia, Scala, Java]"
   ]
  },
  {
   "cell_type": "markdown",
   "id": "8af998d8",
   "metadata": {},
   "source": [
    "Some of the commonly used libraries used by Data Scientists include:\n",
    "* NumPy: A library for scientific computing.\n",
    "* Pandas: A library for data analysis.\n",
    "* Scikit-learn: A library for machine learning.\n",
    "* Matplotlib: A library for plotting data.\n",
    "* Seaborn: A library for statistical plotting.\n",
    "\n"
   ]
  },
  {
   "cell_type": "markdown",
   "id": "e3bd2947",
   "metadata": {},
   "source": [
    "| Tool | Category | Description |\n",
    "|---|---|---|\n",
    "| NumPy | Scientific computing | A library for mathematical operations on arrays. |\n",
    "| Pandas | Data analysis | A library for data manipulation and analysis. |\n",
    "| Scikit-learn | Machine learning | A library for machine learning algorithms. |\n",
    "| Matplotlib | Plotting | A library for plotting data. |\n",
    "| Seaborn | Statistical plotting | A library for statistical plotting. |\n",
    "| TensorFlow | Deep learning | A library for deep learning. |\n",
    "| PyTorch | Deep learning | A library for deep learning. |\n",
    "| Spark | Big data processing | A framework for big data processing. |\n",
    "| Hadoop | Big data processing | A framework for big data processing. |"
   ]
  },
  {
   "cell_type": "code",
   "execution_count": 1,
   "id": "96c307e2",
   "metadata": {},
   "outputs": [
    {
     "name": "stdout",
     "output_type": "stream",
     "text": [
      "The product of the numbers is: 10\n",
      "The sum of the numbers is: 7\n"
     ]
    }
   ],
   "source": [
    "#This a simple arithmetic expression to mutiply then add integers\n",
    "# Import the necessary libraries\n",
    "import numpy as np\n",
    "\n",
    "# Define two numbers\n",
    "num1 = 5\n",
    "num2 = 2\n",
    "\n",
    "# Multiply the numbers\n",
    "product = num1 * num2\n",
    "\n",
    "# Add the numbers\n",
    "sum = num1 + num2\n",
    "\n",
    "# Print the results\n",
    "print(\"The product of the numbers is:\", product)\n",
    "print(\"The sum of the numbers is:\", sum)\n"
   ]
  },
  {
   "cell_type": "code",
   "execution_count": 2,
   "id": "56b769f4",
   "metadata": {},
   "outputs": [
    {
     "name": "stdout",
     "output_type": "stream",
     "text": [
      "The number of hours is: 2\n",
      "The number of minutes is: 0\n"
     ]
    }
   ],
   "source": [
    "#This will convert 200 minutes to hours by diving by 60\n",
    "def convert_minutes_to_hours(minutes):\n",
    "  \"\"\"Converts minutes to hours.\n",
    "\n",
    "  Args:\n",
    "    minutes: The number of minutes to convert.\n",
    "\n",
    "  Returns:\n",
    "    The number of hours represented by the given number of minutes.\n",
    "  \"\"\"\n",
    "\n",
    "  hours = minutes // 60\n",
    "  minutes = minutes % 60\n",
    "\n",
    "  return hours, minutes\n",
    "\n",
    "\n",
    "if __name__ == \"__main__\":\n",
    "  minutes = 120\n",
    "  hours, minutes = convert_minutes_to_hours(minutes)\n",
    "  print(\"The number of hours is:\", hours)\n",
    "  print(\"The number of minutes is:\", minutes)\n"
   ]
  },
  {
   "cell_type": "markdown",
   "id": "cbf738fb",
   "metadata": {},
   "source": [
    "# Author\n",
    "\n",
    "Raichel Abraham is the author of this notebook."
   ]
  },
  {
   "cell_type": "code",
   "execution_count": null,
   "id": "d834a0fd",
   "metadata": {},
   "outputs": [],
   "source": []
  }
 ],
 "metadata": {
  "kernelspec": {
   "display_name": "Python 3 (ipykernel)",
   "language": "python",
   "name": "python3"
  },
  "language_info": {
   "codemirror_mode": {
    "name": "ipython",
    "version": 3
   },
   "file_extension": ".py",
   "mimetype": "text/x-python",
   "name": "python",
   "nbconvert_exporter": "python",
   "pygments_lexer": "ipython3",
   "version": "3.9.13"
  }
 },
 "nbformat": 4,
 "nbformat_minor": 5
}
